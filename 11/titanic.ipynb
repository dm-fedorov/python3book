{
 "cells": [
  {
   "cell_type": "code",
   "execution_count": 1,
   "metadata": {},
   "outputs": [],
   "source": [
    "import pandas as pd"
   ]
  },
  {
   "cell_type": "code",
   "execution_count": 3,
   "metadata": {},
   "outputs": [
    {
     "data": {
      "text/html": [
       "<div>\n",
       "<style scoped>\n",
       "    .dataframe tbody tr th:only-of-type {\n",
       "        vertical-align: middle;\n",
       "    }\n",
       "\n",
       "    .dataframe tbody tr th {\n",
       "        vertical-align: top;\n",
       "    }\n",
       "\n",
       "    .dataframe thead th {\n",
       "        text-align: right;\n",
       "    }\n",
       "</style>\n",
       "<table border=\"1\" class=\"dataframe\">\n",
       "  <thead>\n",
       "    <tr style=\"text-align: right;\">\n",
       "      <th></th>\n",
       "      <th>stud_kod</th>\n",
       "      <th>predmet_name</th>\n",
       "      <th>ball</th>\n",
       "      <th>year</th>\n",
       "      <th>svid_status</th>\n",
       "    </tr>\n",
       "  </thead>\n",
       "  <tbody>\n",
       "    <tr>\n",
       "      <th>0</th>\n",
       "      <td>50095</td>\n",
       "      <td>Русский язык</td>\n",
       "      <td>76</td>\n",
       "      <td>2013</td>\n",
       "      <td>Действительно</td>\n",
       "    </tr>\n",
       "    <tr>\n",
       "      <th>1</th>\n",
       "      <td>50095</td>\n",
       "      <td>Английский язык</td>\n",
       "      <td>94</td>\n",
       "      <td>2013</td>\n",
       "      <td>Действительно</td>\n",
       "    </tr>\n",
       "    <tr>\n",
       "      <th>2</th>\n",
       "      <td>50095</td>\n",
       "      <td>Математика</td>\n",
       "      <td>56</td>\n",
       "      <td>2013</td>\n",
       "      <td>Действительно</td>\n",
       "    </tr>\n",
       "    <tr>\n",
       "      <th>3</th>\n",
       "      <td>50095</td>\n",
       "      <td>Обществознание</td>\n",
       "      <td>70</td>\n",
       "      <td>2013</td>\n",
       "      <td>Действительно</td>\n",
       "    </tr>\n",
       "    <tr>\n",
       "      <th>4</th>\n",
       "      <td>50104</td>\n",
       "      <td>Русский язык</td>\n",
       "      <td>72</td>\n",
       "      <td>2013</td>\n",
       "      <td>Действительно</td>\n",
       "    </tr>\n",
       "    <tr>\n",
       "      <th>...</th>\n",
       "      <td>...</td>\n",
       "      <td>...</td>\n",
       "      <td>...</td>\n",
       "      <td>...</td>\n",
       "      <td>...</td>\n",
       "    </tr>\n",
       "    <tr>\n",
       "      <th>12234</th>\n",
       "      <td>47594</td>\n",
       "      <td>Математика</td>\n",
       "      <td>36</td>\n",
       "      <td>2012</td>\n",
       "      <td>Действительно</td>\n",
       "    </tr>\n",
       "    <tr>\n",
       "      <th>12235</th>\n",
       "      <td>47594</td>\n",
       "      <td>Обществознание</td>\n",
       "      <td>52</td>\n",
       "      <td>2012</td>\n",
       "      <td>Действительно</td>\n",
       "    </tr>\n",
       "    <tr>\n",
       "      <th>12236</th>\n",
       "      <td>47617</td>\n",
       "      <td>Русский язык</td>\n",
       "      <td>58</td>\n",
       "      <td>2012</td>\n",
       "      <td>Действительно</td>\n",
       "    </tr>\n",
       "    <tr>\n",
       "      <th>12237</th>\n",
       "      <td>47617</td>\n",
       "      <td>Математика</td>\n",
       "      <td>52</td>\n",
       "      <td>2012</td>\n",
       "      <td>Действительно</td>\n",
       "    </tr>\n",
       "    <tr>\n",
       "      <th>12238</th>\n",
       "      <td>47617</td>\n",
       "      <td>Обществознание</td>\n",
       "      <td>61</td>\n",
       "      <td>2012</td>\n",
       "      <td>Действительно</td>\n",
       "    </tr>\n",
       "  </tbody>\n",
       "</table>\n",
       "<p>12239 rows × 5 columns</p>\n",
       "</div>"
      ],
      "text/plain": [
       "       stud_kod     predmet_name  ball  year    svid_status\n",
       "0         50095     Русский язык    76  2013  Действительно\n",
       "1         50095  Английский язык    94  2013  Действительно\n",
       "2         50095       Математика    56  2013  Действительно\n",
       "3         50095   Обществознание    70  2013  Действительно\n",
       "4         50104     Русский язык    72  2013  Действительно\n",
       "...         ...              ...   ...   ...            ...\n",
       "12234     47594       Математика    36  2012  Действительно\n",
       "12235     47594   Обществознание    52  2012  Действительно\n",
       "12236     47617     Русский язык    58  2012  Действительно\n",
       "12237     47617       Математика    52  2012  Действительно\n",
       "12238     47617   Обществознание    61  2012  Действительно\n",
       "\n",
       "[12239 rows x 5 columns]"
      ]
     },
     "execution_count": 3,
     "metadata": {},
     "output_type": "execute_result"
    }
   ],
   "source": [
    "df = pd.read_csv(\"https://raw.githubusercontent.com/dm-fedorov/pandas_basic/master/data/data_stud/stud_spisok_ege.csv\", sep=\";\")\n",
    "df"
   ]
  },
  {
   "cell_type": "code",
   "execution_count": 4,
   "metadata": {},
   "outputs": [
    {
     "name": "stdout",
     "output_type": "stream",
     "text": [
      "<class 'pandas.core.frame.DataFrame'>\n",
      "RangeIndex: 12239 entries, 0 to 12238\n",
      "Data columns (total 5 columns):\n",
      " #   Column        Non-Null Count  Dtype \n",
      "---  ------        --------------  ----- \n",
      " 0   stud_kod      12239 non-null  int64 \n",
      " 1   predmet_name  12239 non-null  object\n",
      " 2   ball          12239 non-null  int64 \n",
      " 3   year          12239 non-null  int64 \n",
      " 4   svid_status   12239 non-null  object\n",
      "dtypes: int64(3), object(2)\n",
      "memory usage: 478.2+ KB\n"
     ]
    }
   ],
   "source": [
    "df.info()"
   ]
  },
  {
   "cell_type": "code",
   "execution_count": 6,
   "metadata": {},
   "outputs": [
    {
     "data": {
      "text/plain": [
       "0       7.2500\n",
       "1      71.2833\n",
       "2       7.9250\n",
       "3      53.1000\n",
       "4       8.0500\n",
       "        ...   \n",
       "886    13.0000\n",
       "887    30.0000\n",
       "888    23.4500\n",
       "889    30.0000\n",
       "890     7.7500\n",
       "Name: Fare, Length: 891, dtype: float64"
      ]
     },
     "execution_count": 6,
     "metadata": {},
     "output_type": "execute_result"
    }
   ],
   "source": [
    "df.Fare"
   ]
  },
  {
   "cell_type": "code",
   "execution_count": null,
   "metadata": {},
   "outputs": [],
   "source": [
    "df['Fare'] = round(df['Fare'], 2)"
   ]
  },
  {
   "cell_type": "code",
   "execution_count": 7,
   "metadata": {},
   "outputs": [
    {
     "data": {
      "text/plain": [
       "0       7.2500\n",
       "1      71.2833\n",
       "2       7.9250\n",
       "3      53.1000\n",
       "4       8.0500\n",
       "        ...   \n",
       "886    13.0000\n",
       "887    30.0000\n",
       "888    23.4500\n",
       "889    30.0000\n",
       "890     7.7500\n",
       "Name: Fare, Length: 891, dtype: float64"
      ]
     },
     "execution_count": 7,
     "metadata": {},
     "output_type": "execute_result"
    }
   ],
   "source": [
    "df['Fare']"
   ]
  }
 ],
 "metadata": {
  "kernelspec": {
   "display_name": "Python 3",
   "language": "python",
   "name": "python3"
  },
  "language_info": {
   "codemirror_mode": {
    "name": "ipython",
    "version": 3
   },
   "file_extension": ".py",
   "mimetype": "text/x-python",
   "name": "python",
   "nbconvert_exporter": "python",
   "pygments_lexer": "ipython3",
   "version": "3.12.1"
  }
 },
 "nbformat": 4,
 "nbformat_minor": 2
}
